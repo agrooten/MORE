{
 "cells": [
  {
   "cell_type": "markdown",
   "id": "02524d45",
   "metadata": {},
   "source": [
    "<figure>\n",
    "  <IMG SRC=\"https://github.com/patmanas/figs/raw/main/LogoMORE.jpg\" WIDTH=150 ALIGN=\"right\">\n",
    "</figure>\n",
    "\n",
    "# Probabilistic Modelling of real-world phenomena through ObseRvations and Elicitation (MORE)\n",
    "\n",
    "---\n",
    "\n",
    "## Expert Judgement - Anduryl"
   ]
  },
  {
   "cell_type": "markdown",
   "id": "e9e0484a",
   "metadata": {},
   "source": [
    "### Objetive\n",
    "\n",
    "Create a code that obtains the main indeces in Expert Judgement using Anduryl"
   ]
  },
  {
   "cell_type": "markdown",
   "id": "b9304f51",
   "metadata": {},
   "source": [
    "### Index\n",
    "\n",
    "0. Required Installations \n",
    "1. Load libraries\n",
    "2. Introduction\n",
    "3. Create Project\n",
    "4. Scores Calculations\n",
    "5. Combined Score\n",
    "6. Decision Maker\n",
    "7. Robustness"
   ]
  },
  {
   "cell_type": "markdown",
   "id": "b52c98c1",
   "metadata": {},
   "source": [
    "### 1. Load libraries"
   ]
  },
  {
   "cell_type": "code",
   "execution_count": 1,
   "id": "845a7108",
   "metadata": {},
   "outputs": [
    {
     "name": "stderr",
     "output_type": "stream",
     "text": [
      "C:\\Users\\Arla van der Ende\\anaconda3\\envs\\expert\\Lib\\site-packages\\pydantic\\_internal\\_config.py:341: UserWarning: Valid config keys have changed in V2:\n",
      "* 'allow_population_by_field_name' has been renamed to 'populate_by_name'\n",
      "  warnings.warn(message, UserWarning)\n"
     ]
    }
   ],
   "source": [
    "import anduryl\n",
    "import pandas as pd\n",
    "import numpy as np\n",
    "\n",
    "import matplotlib.pyplot as plt\n",
    "plt.style.use('ggplot')\n",
    "%matplotlib inline"
   ]
  },
  {
   "cell_type": "markdown",
   "id": "cc4f3a91",
   "metadata": {},
   "source": [
    "### 2. Introduction"
   ]
  },
  {
   "cell_type": "markdown",
   "id": "2ca1f1d5",
   "metadata": {},
   "source": [
    "Anduryl is a Python module and GUI for expert elicitation based on Cooke's classical method. Anduryl allows to set up your structured expert judgment project, calculate decision makers, robustness analysis and visualizations. In this Notebook an example on how tu use and apply Anduryl is given. For more information you can check the paper https://doi.org/10.1016/j.softx.2020.100497 and github repository https://github.com/grongen/anduryl.\n",
    "\n",
    "Fun fact, the original paper introducing ANDURIL (matlab predecesor of ANDURYL) includes the following explanation for the name: \n",
    "\"In order to avoid confusion of the minority of people, who are not familiar with the universe of Lord of the Rings by J.R.R. Tolkien, the authors would like to clarify the inspiration for the name of the developed Matlab toolbox. Andúril was the name of the sword of Aragorn, the son of Arathorn, which was reforged from the shards of Narsil (the sword that was used by Isildur to cut the One Ring from Sauron’s hand). Excalibur is also the name of the legendary sword of King Arthur. Similarly to the sword, the source code of EXCALIBUR software remained accessible only to a few worthy ones. Therefore, the researchers and practitioners could only admire and use the software without being able to further investigate and explore developments of the method. To change this, the existing software had to be “broken to pieces” and then “reforged”. Naturally, the name of the resulting new open-source Matlab toolbox is ANDURIL. Hopefully, this will help in bringing peace to troubled researchers and practitioners of Cooke’s classical model.\"\n",
    "\n",
    "\n",
    "Along this notebook, we will be working with the hypothetical example from the previous notebook. The case presents 3 differents experts that have answered 5 calibration questions (where a realization is known to the analysis but not to the experts at the moment of the elicitation and are used to objectively evaluate expert's assesment) and one question of interest (where no realization is present and is the main purpose of the expert judgement study). The experts answer every question providing respectively the quantiles 5th, 50eth and 95th of their uncertainty distributions. \n",
    "\n"
   ]
  },
  {
   "cell_type": "markdown",
   "id": "005cf588",
   "metadata": {},
   "source": [
    "### 3. Create Project"
   ]
  },
  {
   "cell_type": "markdown",
   "id": "ff41c51c",
   "metadata": {},
   "source": [
    "In order to be able to use Anduryl, input files require a certain format. This will be discussed later in the \"File_info.ipynb\" notebook. For some general examples, the cases folder in the Github repository presents different examples. In the particular case of this notebook, the files example.dtt and example.rls contain the relevant infromation for the hypothetical case. The two different files are taken as input, one (the .dtt file) including the experts' responses and the other (.rls file) contains the realizations. For the experts file, information about the number of quantiles, the label of the question, the complete question and the units of the variable can be included. For the realizations file, the quantiles are not required and introducing the value -9.99500E+0002 is taken as a NaN as required for questions of interest.  With the code below we create an ANDRYL project. "
   ]
  },
  {
   "cell_type": "code",
   "execution_count": 2,
   "id": "e02f5396",
   "metadata": {},
   "outputs": [
    {
     "data": {
      "text/plain": [
       "Main project class.\n",
       "Properties:\n",
       " - assessments\n",
       " - experts\n",
       " - io\n",
       " - items\n",
       " - main_results\n",
       " - results\n",
       "Methods:\n",
       " - add_results_from_settings\n",
       " - calculate_decision_maker\n",
       " - calculate_expert_robustness\n",
       " - calculate_item_robustness\n",
       " - initialize\n",
       " - to_results"
      ]
     },
     "execution_count": 2,
     "metadata": {},
     "output_type": "execute_result"
    }
   ],
   "source": [
    "# Create project and load Excalibur files\n",
    "file = 'file_PROJECT'\n",
    "project = anduryl.Project()\n",
    "project.io.load_excalibur(f'./{file}.dtt', f'./{file}.rls')\n",
    "project"
   ]
  },
  {
   "cell_type": "markdown",
   "id": "0b017f83",
   "metadata": {},
   "source": [
    "We can see that when creating a project different \"Properties\" and \"Methods\" can be obtained and used. The properties contain the information about the realization, experts and scores. The methods can be applied to the different properties in order to perform different analyses. For example, obtaining the scores or a decision maker. \n",
    "\n",
    "In the code below we explore the \"items\", \"experts\" and \"assessments\" properties. With these properties later we can make analysis using Cooke's method in ANDURYL. \n",
    "\n",
    "For the items, the question, the scale and the realization are shown. In our example files, no description of the question or units are included but this is possible if introduced in the documents."
   ]
  },
  {
   "cell_type": "code",
   "execution_count": 3,
   "id": "68ab66b2",
   "metadata": {},
   "outputs": [
    {
     "data": {
      "text/html": [
       "<div>\n",
       "<style scoped>\n",
       "    .dataframe tbody tr th:only-of-type {\n",
       "        vertical-align: middle;\n",
       "    }\n",
       "\n",
       "    .dataframe tbody tr th {\n",
       "        vertical-align: top;\n",
       "    }\n",
       "\n",
       "    .dataframe thead th {\n",
       "        text-align: right;\n",
       "    }\n",
       "</style>\n",
       "<table border=\"1\" class=\"dataframe\">\n",
       "  <thead>\n",
       "    <tr style=\"text-align: right;\">\n",
       "      <th></th>\n",
       "      <th>scale</th>\n",
       "      <th>realization</th>\n",
       "      <th>question</th>\n",
       "      <th>unit</th>\n",
       "    </tr>\n",
       "  </thead>\n",
       "  <tbody>\n",
       "    <tr>\n",
       "      <th>QUESTION1</th>\n",
       "      <td>uni</td>\n",
       "      <td>-0.6543</td>\n",
       "      <td></td>\n",
       "      <td></td>\n",
       "    </tr>\n",
       "    <tr>\n",
       "      <th>QUESTION2</th>\n",
       "      <td>uni</td>\n",
       "      <td>1.3503</td>\n",
       "      <td></td>\n",
       "      <td></td>\n",
       "    </tr>\n",
       "    <tr>\n",
       "      <th>QUESTION3</th>\n",
       "      <td>uni</td>\n",
       "      <td>-4.4278</td>\n",
       "      <td></td>\n",
       "      <td></td>\n",
       "    </tr>\n",
       "    <tr>\n",
       "      <th>QUESTION4</th>\n",
       "      <td>uni</td>\n",
       "      <td>2.7212</td>\n",
       "      <td></td>\n",
       "      <td></td>\n",
       "    </tr>\n",
       "    <tr>\n",
       "      <th>QUESTION5</th>\n",
       "      <td>uni</td>\n",
       "      <td>-0.5239</td>\n",
       "      <td></td>\n",
       "      <td></td>\n",
       "    </tr>\n",
       "    <tr>\n",
       "      <th>QUESTION6</th>\n",
       "      <td>uni</td>\n",
       "      <td>5.1954</td>\n",
       "      <td></td>\n",
       "      <td></td>\n",
       "    </tr>\n",
       "    <tr>\n",
       "      <th>QUESTION7</th>\n",
       "      <td>uni</td>\n",
       "      <td>11.3066</td>\n",
       "      <td></td>\n",
       "      <td></td>\n",
       "    </tr>\n",
       "    <tr>\n",
       "      <th>QUESTION8</th>\n",
       "      <td>uni</td>\n",
       "      <td>17.3295</td>\n",
       "      <td></td>\n",
       "      <td></td>\n",
       "    </tr>\n",
       "    <tr>\n",
       "      <th>QUESTION9</th>\n",
       "      <td>uni</td>\n",
       "      <td>21.2649</td>\n",
       "      <td></td>\n",
       "      <td></td>\n",
       "    </tr>\n",
       "    <tr>\n",
       "      <th>QUESTION10</th>\n",
       "      <td>uni</td>\n",
       "      <td>30.6882</td>\n",
       "      <td></td>\n",
       "      <td></td>\n",
       "    </tr>\n",
       "    <tr>\n",
       "      <th>QUESTION11</th>\n",
       "      <td>uni</td>\n",
       "      <td>43.3533</td>\n",
       "      <td></td>\n",
       "      <td></td>\n",
       "    </tr>\n",
       "    <tr>\n",
       "      <th>QUESTION12</th>\n",
       "      <td>uni</td>\n",
       "      <td>43.7610</td>\n",
       "      <td></td>\n",
       "      <td></td>\n",
       "    </tr>\n",
       "    <tr>\n",
       "      <th>QUESTION13</th>\n",
       "      <td>uni</td>\n",
       "      <td>NaN</td>\n",
       "      <td></td>\n",
       "      <td></td>\n",
       "    </tr>\n",
       "    <tr>\n",
       "      <th>QUESTION14</th>\n",
       "      <td>uni</td>\n",
       "      <td>NaN</td>\n",
       "      <td></td>\n",
       "      <td></td>\n",
       "    </tr>\n",
       "    <tr>\n",
       "      <th>QUESTION15</th>\n",
       "      <td>uni</td>\n",
       "      <td>NaN</td>\n",
       "      <td></td>\n",
       "      <td></td>\n",
       "    </tr>\n",
       "    <tr>\n",
       "      <th>QUESTION16</th>\n",
       "      <td>uni</td>\n",
       "      <td>NaN</td>\n",
       "      <td></td>\n",
       "      <td></td>\n",
       "    </tr>\n",
       "    <tr>\n",
       "      <th>QUESTION17</th>\n",
       "      <td>uni</td>\n",
       "      <td>NaN</td>\n",
       "      <td></td>\n",
       "      <td></td>\n",
       "    </tr>\n",
       "    <tr>\n",
       "      <th>QUESTION18</th>\n",
       "      <td>uni</td>\n",
       "      <td>NaN</td>\n",
       "      <td></td>\n",
       "      <td></td>\n",
       "    </tr>\n",
       "    <tr>\n",
       "      <th>QUESTION19</th>\n",
       "      <td>uni</td>\n",
       "      <td>NaN</td>\n",
       "      <td></td>\n",
       "      <td></td>\n",
       "    </tr>\n",
       "    <tr>\n",
       "      <th>QUESTION20</th>\n",
       "      <td>uni</td>\n",
       "      <td>NaN</td>\n",
       "      <td></td>\n",
       "      <td></td>\n",
       "    </tr>\n",
       "    <tr>\n",
       "      <th>QUESTION21</th>\n",
       "      <td>uni</td>\n",
       "      <td>NaN</td>\n",
       "      <td></td>\n",
       "      <td></td>\n",
       "    </tr>\n",
       "    <tr>\n",
       "      <th>QUESTION22</th>\n",
       "      <td>uni</td>\n",
       "      <td>NaN</td>\n",
       "      <td></td>\n",
       "      <td></td>\n",
       "    </tr>\n",
       "    <tr>\n",
       "      <th>QUESTION23</th>\n",
       "      <td>uni</td>\n",
       "      <td>NaN</td>\n",
       "      <td></td>\n",
       "      <td></td>\n",
       "    </tr>\n",
       "    <tr>\n",
       "      <th>QUESTION24</th>\n",
       "      <td>uni</td>\n",
       "      <td>NaN</td>\n",
       "      <td></td>\n",
       "      <td></td>\n",
       "    </tr>\n",
       "  </tbody>\n",
       "</table>\n",
       "</div>"
      ],
      "text/plain": [
       "           scale  realization question unit\n",
       "QUESTION1    uni      -0.6543              \n",
       "QUESTION2    uni       1.3503              \n",
       "QUESTION3    uni      -4.4278              \n",
       "QUESTION4    uni       2.7212              \n",
       "QUESTION5    uni      -0.5239              \n",
       "QUESTION6    uni       5.1954              \n",
       "QUESTION7    uni      11.3066              \n",
       "QUESTION8    uni      17.3295              \n",
       "QUESTION9    uni      21.2649              \n",
       "QUESTION10   uni      30.6882              \n",
       "QUESTION11   uni      43.3533              \n",
       "QUESTION12   uni      43.7610              \n",
       "QUESTION13   uni          NaN              \n",
       "QUESTION14   uni          NaN              \n",
       "QUESTION15   uni          NaN              \n",
       "QUESTION16   uni          NaN              \n",
       "QUESTION17   uni          NaN              \n",
       "QUESTION18   uni          NaN              \n",
       "QUESTION19   uni          NaN              \n",
       "QUESTION20   uni          NaN              \n",
       "QUESTION21   uni          NaN              \n",
       "QUESTION22   uni          NaN              \n",
       "QUESTION23   uni          NaN              \n",
       "QUESTION24   uni          NaN              "
      ]
     },
     "execution_count": 3,
     "metadata": {},
     "output_type": "execute_result"
    }
   ],
   "source": [
    "pd.DataFrame.from_dict(project.items.as_dict())"
   ]
  },
  {
   "cell_type": "markdown",
   "id": "d1aa17b0-0d6f-499f-abe5-4c7e2828e2f4",
   "metadata": {},
   "source": [
    "question 6: actual point "
   ]
  },
  {
   "cell_type": "markdown",
   "id": "f23ab64d",
   "metadata": {},
   "source": [
    "Then we can show a table with experts relevant metrics and values. As no calculations have been applied we would expect this table filled with NaN for now. The columns have the name of the expert, the information and calibration scores, number of answered questions, the weight and the user weight."
   ]
  },
  {
   "cell_type": "code",
   "execution_count": 4,
   "id": "c0fe46db",
   "metadata": {},
   "outputs": [
    {
     "data": {
      "text/html": [
       "<div>\n",
       "<style scoped>\n",
       "    .dataframe tbody tr th:only-of-type {\n",
       "        vertical-align: middle;\n",
       "    }\n",
       "\n",
       "    .dataframe tbody tr th {\n",
       "        vertical-align: top;\n",
       "    }\n",
       "\n",
       "    .dataframe thead th {\n",
       "        text-align: right;\n",
       "    }\n",
       "</style>\n",
       "<table border=\"1\" class=\"dataframe\">\n",
       "  <thead>\n",
       "    <tr style=\"text-align: right;\">\n",
       "      <th></th>\n",
       "      <th>Name</th>\n",
       "      <th>Info. score total</th>\n",
       "      <th>Info. score real.</th>\n",
       "      <th>Calibration score</th>\n",
       "      <th>Answered seed items</th>\n",
       "      <th>Weight</th>\n",
       "      <th>User weight</th>\n",
       "    </tr>\n",
       "  </thead>\n",
       "  <tbody>\n",
       "    <tr>\n",
       "      <th>Ex1</th>\n",
       "      <td>Ex1</td>\n",
       "      <td>NaN</td>\n",
       "      <td>NaN</td>\n",
       "      <td>NaN</td>\n",
       "      <td>NaN</td>\n",
       "      <td>NaN</td>\n",
       "      <td>NaN</td>\n",
       "    </tr>\n",
       "    <tr>\n",
       "      <th>Ex2</th>\n",
       "      <td>Ex2</td>\n",
       "      <td>NaN</td>\n",
       "      <td>NaN</td>\n",
       "      <td>NaN</td>\n",
       "      <td>NaN</td>\n",
       "      <td>NaN</td>\n",
       "      <td>NaN</td>\n",
       "    </tr>\n",
       "  </tbody>\n",
       "</table>\n",
       "</div>"
      ],
      "text/plain": [
       "    Name  Info. score total  Info. score real.  Calibration score  \\\n",
       "Ex1  Ex1                NaN                NaN                NaN   \n",
       "Ex2  Ex2                NaN                NaN                NaN   \n",
       "\n",
       "     Answered seed items  Weight  User weight  \n",
       "Ex1                  NaN     NaN          NaN  \n",
       "Ex2                  NaN     NaN          NaN  "
      ]
     },
     "execution_count": 4,
     "metadata": {},
     "output_type": "execute_result"
    }
   ],
   "source": [
    "pd.DataFrame.from_dict(project.experts.as_dict())"
   ]
  },
  {
   "cell_type": "markdown",
   "id": "8e11a3bb",
   "metadata": {},
   "source": [
    "Before the calculations, we can have a look at the responses of the experts to each of the questions. Just to check that everything looks as expected."
   ]
  },
  {
   "cell_type": "code",
   "execution_count": 5,
   "id": "cc7b2a66",
   "metadata": {},
   "outputs": [
    {
     "data": {
      "text/html": [
       "<div>\n",
       "<style scoped>\n",
       "    .dataframe tbody tr th:only-of-type {\n",
       "        vertical-align: middle;\n",
       "    }\n",
       "\n",
       "    .dataframe tbody tr th {\n",
       "        vertical-align: top;\n",
       "    }\n",
       "\n",
       "    .dataframe thead th {\n",
       "        text-align: right;\n",
       "    }\n",
       "</style>\n",
       "<table border=\"1\" class=\"dataframe\">\n",
       "  <thead>\n",
       "    <tr style=\"text-align: right;\">\n",
       "      <th></th>\n",
       "      <th></th>\n",
       "      <th>0.05</th>\n",
       "      <th>0.50</th>\n",
       "      <th>0.95</th>\n",
       "    </tr>\n",
       "  </thead>\n",
       "  <tbody>\n",
       "    <tr>\n",
       "      <th rowspan=\"24\" valign=\"top\">Ex1</th>\n",
       "      <th>QUESTION1</th>\n",
       "      <td>-4.0</td>\n",
       "      <td>0.0</td>\n",
       "      <td>5.0</td>\n",
       "    </tr>\n",
       "    <tr>\n",
       "      <th>QUESTION2</th>\n",
       "      <td>-4.0</td>\n",
       "      <td>0.0</td>\n",
       "      <td>5.0</td>\n",
       "    </tr>\n",
       "    <tr>\n",
       "      <th>QUESTION3</th>\n",
       "      <td>-5.0</td>\n",
       "      <td>0.0</td>\n",
       "      <td>6.0</td>\n",
       "    </tr>\n",
       "    <tr>\n",
       "      <th>QUESTION4</th>\n",
       "      <td>-6.0</td>\n",
       "      <td>0.0</td>\n",
       "      <td>8.0</td>\n",
       "    </tr>\n",
       "    <tr>\n",
       "      <th>QUESTION5</th>\n",
       "      <td>-7.0</td>\n",
       "      <td>0.0</td>\n",
       "      <td>10.0</td>\n",
       "    </tr>\n",
       "    <tr>\n",
       "      <th>QUESTION6</th>\n",
       "      <td>-7.0</td>\n",
       "      <td>0.0</td>\n",
       "      <td>10.0</td>\n",
       "    </tr>\n",
       "    <tr>\n",
       "      <th>QUESTION7</th>\n",
       "      <td>1.0</td>\n",
       "      <td>3.0</td>\n",
       "      <td>15.0</td>\n",
       "    </tr>\n",
       "    <tr>\n",
       "      <th>QUESTION8</th>\n",
       "      <td>6.0</td>\n",
       "      <td>15.0</td>\n",
       "      <td>10.0</td>\n",
       "    </tr>\n",
       "    <tr>\n",
       "      <th>QUESTION9</th>\n",
       "      <td>17.0</td>\n",
       "      <td>40.0</td>\n",
       "      <td>75.0</td>\n",
       "    </tr>\n",
       "    <tr>\n",
       "      <th>QUESTION10</th>\n",
       "      <td>20.5</td>\n",
       "      <td>50.0</td>\n",
       "      <td>90.0</td>\n",
       "    </tr>\n",
       "    <tr>\n",
       "      <th>QUESTION11</th>\n",
       "      <td>10.0</td>\n",
       "      <td>60.0</td>\n",
       "      <td>100.0</td>\n",
       "    </tr>\n",
       "    <tr>\n",
       "      <th>QUESTION12</th>\n",
       "      <td>15.0</td>\n",
       "      <td>80.0</td>\n",
       "      <td>120.0</td>\n",
       "    </tr>\n",
       "    <tr>\n",
       "      <th>QUESTION13</th>\n",
       "      <td>-12.0</td>\n",
       "      <td>0.0</td>\n",
       "      <td>15.0</td>\n",
       "    </tr>\n",
       "    <tr>\n",
       "      <th>QUESTION14</th>\n",
       "      <td>-12.0</td>\n",
       "      <td>0.0</td>\n",
       "      <td>15.0</td>\n",
       "    </tr>\n",
       "    <tr>\n",
       "      <th>QUESTION15</th>\n",
       "      <td>-12.0</td>\n",
       "      <td>0.0</td>\n",
       "      <td>15.0</td>\n",
       "    </tr>\n",
       "    <tr>\n",
       "      <th>QUESTION16</th>\n",
       "      <td>-10.0</td>\n",
       "      <td>-5.0</td>\n",
       "      <td>5.0</td>\n",
       "    </tr>\n",
       "    <tr>\n",
       "      <th>QUESTION17</th>\n",
       "      <td>-15.0</td>\n",
       "      <td>-7.0</td>\n",
       "      <td>5.0</td>\n",
       "    </tr>\n",
       "    <tr>\n",
       "      <th>QUESTION18</th>\n",
       "      <td>-15.0</td>\n",
       "      <td>-10.0</td>\n",
       "      <td>5.0</td>\n",
       "    </tr>\n",
       "    <tr>\n",
       "      <th>QUESTION19</th>\n",
       "      <td>-15.0</td>\n",
       "      <td>0.0</td>\n",
       "      <td>15.0</td>\n",
       "    </tr>\n",
       "    <tr>\n",
       "      <th>QUESTION20</th>\n",
       "      <td>-15.0</td>\n",
       "      <td>0.0</td>\n",
       "      <td>15.0</td>\n",
       "    </tr>\n",
       "    <tr>\n",
       "      <th>QUESTION21</th>\n",
       "      <td>-15.0</td>\n",
       "      <td>0.0</td>\n",
       "      <td>15.0</td>\n",
       "    </tr>\n",
       "    <tr>\n",
       "      <th>QUESTION22</th>\n",
       "      <td>-15.0</td>\n",
       "      <td>-5.0</td>\n",
       "      <td>5.0</td>\n",
       "    </tr>\n",
       "    <tr>\n",
       "      <th>QUESTION23</th>\n",
       "      <td>-15.0</td>\n",
       "      <td>-7.0</td>\n",
       "      <td>5.0</td>\n",
       "    </tr>\n",
       "    <tr>\n",
       "      <th>QUESTION24</th>\n",
       "      <td>-15.0</td>\n",
       "      <td>-10.0</td>\n",
       "      <td>5.0</td>\n",
       "    </tr>\n",
       "    <tr>\n",
       "      <th>Ex2</th>\n",
       "      <th>QUESTION1</th>\n",
       "      <td>0.5</td>\n",
       "      <td>0.8</td>\n",
       "      <td>1.6</td>\n",
       "    </tr>\n",
       "  </tbody>\n",
       "</table>\n",
       "</div>"
      ],
      "text/plain": [
       "                0.05  0.50   0.95\n",
       "Ex1 QUESTION1   -4.0   0.0    5.0\n",
       "    QUESTION2   -4.0   0.0    5.0\n",
       "    QUESTION3   -5.0   0.0    6.0\n",
       "    QUESTION4   -6.0   0.0    8.0\n",
       "    QUESTION5   -7.0   0.0   10.0\n",
       "    QUESTION6   -7.0   0.0   10.0\n",
       "    QUESTION7    1.0   3.0   15.0\n",
       "    QUESTION8    6.0  15.0   10.0\n",
       "    QUESTION9   17.0  40.0   75.0\n",
       "    QUESTION10  20.5  50.0   90.0\n",
       "    QUESTION11  10.0  60.0  100.0\n",
       "    QUESTION12  15.0  80.0  120.0\n",
       "    QUESTION13 -12.0   0.0   15.0\n",
       "    QUESTION14 -12.0   0.0   15.0\n",
       "    QUESTION15 -12.0   0.0   15.0\n",
       "    QUESTION16 -10.0  -5.0    5.0\n",
       "    QUESTION17 -15.0  -7.0    5.0\n",
       "    QUESTION18 -15.0 -10.0    5.0\n",
       "    QUESTION19 -15.0   0.0   15.0\n",
       "    QUESTION20 -15.0   0.0   15.0\n",
       "    QUESTION21 -15.0   0.0   15.0\n",
       "    QUESTION22 -15.0  -5.0    5.0\n",
       "    QUESTION23 -15.0  -7.0    5.0\n",
       "    QUESTION24 -15.0 -10.0    5.0\n",
       "Ex2 QUESTION1    0.5   0.8    1.6"
      ]
     },
     "execution_count": 5,
     "metadata": {},
     "output_type": "execute_result"
    }
   ],
   "source": [
    "pd.DataFrame.from_dict(project.assessments.as_dict()).head(25)"
   ]
  },
  {
   "cell_type": "markdown",
   "id": "c78dfd73-1d22-4343-b897-f46ca2d89c99",
   "metadata": {},
   "source": [
    "question 1: high info score since values are close to eachother"
   ]
  },
  {
   "cell_type": "markdown",
   "id": "82ab853c",
   "metadata": {},
   "source": [
    "### 4. Scores Calculations"
   ]
  },
  {
   "cell_type": "markdown",
   "id": "32c8c441",
   "metadata": {},
   "source": [
    "In this section we use ANDURYL in order to compute the same or very similar values as the ones calculated in the previous Notebook. Notice that in the exaple below no robusntess analysis is performed."
   ]
  },
  {
   "cell_type": "code",
   "execution_count": 6,
   "id": "a3003177",
   "metadata": {},
   "outputs": [
    {
     "name": "stderr",
     "output_type": "stream",
     "text": [
      "C:\\Users\\Arla van der Ende\\anaconda3\\envs\\expert\\Lib\\site-packages\\anduryl\\core\\experts.py:406: RuntimeWarning: invalid value encountered in log\n",
      "  p * np.log(p / (bounds[1:] - bounds[:-1]))\n",
      "C:\\Users\\Arla van der Ende\\anaconda3\\envs\\expert\\Lib\\site-packages\\anduryl\\core\\experts.py:419: RuntimeWarning: invalid value encountered in divide\n",
      "  self.info_real[expidxs] = self.info_per_var[np.ix_(expidxs, ridx)].sum(axis=1) / (\n",
      "C:\\Users\\Arla van der Ende\\anaconda3\\envs\\expert\\Lib\\site-packages\\anduryl\\core\\experts.py:422: RuntimeWarning: invalid value encountered in divide\n",
      "  self.info_total[expidxs] = self.info_per_var[np.ix_(expidxs, tidx)].sum(axis=1) / (\n",
      "C:\\Users\\Arla van der Ende\\anaconda3\\envs\\expert\\Lib\\site-packages\\anduryl\\core\\experts.py:452: RuntimeWarning: invalid value encountered in divide\n",
      "  s = count / count.sum()\n"
     ]
    }
   ],
   "source": [
    "# Calculate decision maker with performance based weights\n",
    "project.calculate_expert_robustness(\n",
    "    weight_type='global',\n",
    "    overshoot=0.1,  # this is the k factor that adjusts the range of the support from the previous Notebook\n",
    "    max_exclude = 0 # this means no robustness analysis is performed  \n",
    ")"
   ]
  },
  {
   "cell_type": "markdown",
   "id": "bcb0e717",
   "metadata": {},
   "source": [
    "After the calculation, we can see that the table has been filled. As we have not defined user weights that column should remain as NaNs. Expert 1 shows a considerably higher Information Score compared to the other two, but very low Calibration Score. On the other hand, Expert 2 has a higher Calibration Score. Expert 3 seem to fall in between the other two. It is clear that the Calibration Score of Expert 1 penalizes him in the weights. Expert 2 and Expert 3 show a much higher weight with Expert 3 presenting the largest weight."
   ]
  },
  {
   "cell_type": "code",
   "execution_count": 7,
   "id": "e25d4f19",
   "metadata": {},
   "outputs": [
    {
     "data": {
      "text/html": [
       "<div>\n",
       "<style scoped>\n",
       "    .dataframe tbody tr th:only-of-type {\n",
       "        vertical-align: middle;\n",
       "    }\n",
       "\n",
       "    .dataframe tbody tr th {\n",
       "        vertical-align: top;\n",
       "    }\n",
       "\n",
       "    .dataframe thead th {\n",
       "        text-align: right;\n",
       "    }\n",
       "</style>\n",
       "<table border=\"1\" class=\"dataframe\">\n",
       "  <thead>\n",
       "    <tr style=\"text-align: right;\">\n",
       "      <th></th>\n",
       "      <th>Name</th>\n",
       "      <th>Info. score total</th>\n",
       "      <th>Info. score real.</th>\n",
       "      <th>Calibration score</th>\n",
       "      <th>Answered seed items</th>\n",
       "      <th>Weight</th>\n",
       "      <th>User weight</th>\n",
       "    </tr>\n",
       "  </thead>\n",
       "  <tbody>\n",
       "    <tr>\n",
       "      <th>Ex1</th>\n",
       "      <td>Ex1</td>\n",
       "      <td>NaN</td>\n",
       "      <td>NaN</td>\n",
       "      <td>5.213961e-01</td>\n",
       "      <td>12.0</td>\n",
       "      <td>NaN</td>\n",
       "      <td>NaN</td>\n",
       "    </tr>\n",
       "    <tr>\n",
       "      <th>Ex2</th>\n",
       "      <td>Ex2</td>\n",
       "      <td>2.26263</td>\n",
       "      <td>1.817195</td>\n",
       "      <td>1.025746e-08</td>\n",
       "      <td>12.0</td>\n",
       "      <td>1.863980e-08</td>\n",
       "      <td>NaN</td>\n",
       "    </tr>\n",
       "  </tbody>\n",
       "</table>\n",
       "</div>"
      ],
      "text/plain": [
       "    Name  Info. score total  Info. score real.  Calibration score  \\\n",
       "Ex1  Ex1                NaN                NaN       5.213961e-01   \n",
       "Ex2  Ex2            2.26263           1.817195       1.025746e-08   \n",
       "\n",
       "     Answered seed items        Weight  User weight  \n",
       "Ex1                 12.0           NaN          NaN  \n",
       "Ex2                 12.0  1.863980e-08          NaN  "
      ]
     },
     "execution_count": 7,
     "metadata": {},
     "output_type": "execute_result"
    }
   ],
   "source": [
    "pd.DataFrame.from_dict(project.experts.as_dict())"
   ]
  },
  {
   "cell_type": "markdown",
   "id": "2d7ef690-6262-4d8a-8cd4-82d53ee12467",
   "metadata": {},
   "source": [
    "Expert 1: highest info score: question scores most closely together. Expert 2 most calibrated. "
   ]
  },
  {
   "cell_type": "markdown",
   "id": "4a0624bc",
   "metadata": {},
   "source": [
    "### 5. Combined Score"
   ]
  },
  {
   "cell_type": "markdown",
   "id": "497bcd93",
   "metadata": {},
   "source": [
    "Once the different scores are calculated, they can actually be combined into the Combined Score. The score is defined as the product of the Calibration Score and the Information Score:\n",
    "\n",
    "$$CS(e) = Cal(e) * Inf(e)$$\n",
    "\n",
    "This combination is relevant for the calculation of the Decision Maker and the weights required for that."
   ]
  },
  {
   "cell_type": "markdown",
   "id": "5f09ecee",
   "metadata": {},
   "source": [
    "### 6. Decision Maker"
   ]
  },
  {
   "cell_type": "markdown",
   "id": "7fde6574",
   "metadata": {},
   "source": [
    "When having multiple ($N$) experts, we can create what is known as de Decision Maker ($DM$) by combining the different experts using weights. The PDF and CDF of the $DM$ are as follows:\n",
    "\n",
    "$$f_{DM} = \\sum \\limits _{i=1} ^{N} w_{i} f_{i}$$\n",
    "$$F_{DM} = \\sum \\limits _{i=1} ^{N} w_{i} F_{i}$$\n",
    "\n",
    "Where $f_{i}$ corresponds to the PDF, $F_{i}$ to the CDF and $w_{i}$ the weight assigned to the expert $i$. There are different ways to define the weights. One way is to provide equal weights to each of the experts, generating the Equal Weight DM. Another option is to make use of the $CS$ to create a Performance-based Weight $DM$. The weights for this case are defined as:\n",
    "\n",
    "$$w_{i} = \\frac{CS(e_{i})}{\\sum \\limits _{j=1} ^{N} CS(e_{j})}$$\n",
    "\n",
    "On top that, if we don't want experts with very low statistical accuracy, we can impose a restriction by only using experts with a Calibration Score higher than a particulat threshold (often $0.05$, why?). \n",
    "\n",
    "Notice that the Decision Maker presents can be treated a another expert and its Calibration and Information Scores can be computed and compared to the actual experts.\n",
    "\n",
    "In the following blocks, you can see an example on how to calculate a Decision Maker using Anduryl and how to make plots of the CDFs for the different questions."
   ]
  },
  {
   "cell_type": "code",
   "execution_count": 17,
   "id": "437bf880",
   "metadata": {},
   "outputs": [
    {
     "name": "stderr",
     "output_type": "stream",
     "text": [
      "C:\\Users\\Arla van der Ende\\anaconda3\\envs\\expert\\Lib\\site-packages\\anduryl\\core\\experts.py:419: RuntimeWarning: invalid value encountered in divide\n",
      "  self.info_real[expidxs] = self.info_per_var[np.ix_(expidxs, ridx)].sum(axis=1) / (\n",
      "C:\\Users\\Arla van der Ende\\anaconda3\\envs\\expert\\Lib\\site-packages\\anduryl\\core\\experts.py:422: RuntimeWarning: invalid value encountered in divide\n",
      "  self.info_total[expidxs] = self.info_per_var[np.ix_(expidxs, tidx)].sum(axis=1) / (\n",
      "C:\\Users\\Arla van der Ende\\anaconda3\\envs\\expert\\Lib\\site-packages\\anduryl\\core\\experts.py:452: RuntimeWarning: invalid value encountered in divide\n",
      "  s = count / count.sum()\n"
     ]
    }
   ],
   "source": [
    "# Calculate decision maker with global weights, using performance based\n",
    "project.calculate_decision_maker(\n",
    "    weight_type='global',\n",
    "    overshoot=0.1,\n",
    "    exp_id='DMgl',\n",
    "    calpower=1.0, # Calibration power, relative weight of the calibration compared\n",
    "                  # to the information score\n",
    "    exp_name='Decision Maker global weights',\n",
    "    alpha=0.01,    # Significance level for the calibration score. Experts with a lower\n",
    "                  # calibration score get zero weight. If None, the weights\n",
    "                  # are returnes for all possible significance levels \n",
    "                  # (unique calibration scores)\n",
    "    overwrite=True\n",
    ")\n",
    "\n",
    "project.experts.user_weights[0:2] = [1.0, 1.0] # Equal weight DM\n",
    "\n",
    "# Calculate decision maker with user defined weights\n",
    "project.calculate_decision_maker(\n",
    "    weight_type='user',\n",
    "    overshoot=0.1,\n",
    "    exp_id='DMeq',\n",
    "    calpower=1.0,\n",
    "    exp_name='Decision Maker equal weights',\n",
    "    alpha=0.01,\n",
    "    overwrite=True\n",
    ")\n",
    "\n",
    "\n"
   ]
  },
  {
   "cell_type": "markdown",
   "id": "0241d905",
   "metadata": {},
   "source": [
    "The DM can be calculated in multiple ways, it can be equal weight DM, setting as 1 the user weights of each of the experts, or performance based DM which is the example shown in the code above using global.\n",
    "\n",
    "After we calculate the DM, you can see that it appears as another expert with specific scores and weights. We have also included User weights, so that column is filled now. By looking at the weights, it falls in between the very low Expert 1 and the other two experts. In the information Score, it seems to perform worse than all the other experts but in the Calibration Score is between Experts 2 and 3. Remember that the DM is a weighted combination of the Experts."
   ]
  },
  {
   "cell_type": "code",
   "execution_count": 18,
   "id": "b63b8ce9",
   "metadata": {},
   "outputs": [
    {
     "data": {
      "text/html": [
       "<div>\n",
       "<style scoped>\n",
       "    .dataframe tbody tr th:only-of-type {\n",
       "        vertical-align: middle;\n",
       "    }\n",
       "\n",
       "    .dataframe tbody tr th {\n",
       "        vertical-align: top;\n",
       "    }\n",
       "\n",
       "    .dataframe thead th {\n",
       "        text-align: right;\n",
       "    }\n",
       "</style>\n",
       "<table border=\"1\" class=\"dataframe\">\n",
       "  <thead>\n",
       "    <tr style=\"text-align: right;\">\n",
       "      <th></th>\n",
       "      <th>Name</th>\n",
       "      <th>Info. score total</th>\n",
       "      <th>Info. score real.</th>\n",
       "      <th>Calibration score</th>\n",
       "      <th>Answered seed items</th>\n",
       "      <th>Weight</th>\n",
       "      <th>User weight</th>\n",
       "    </tr>\n",
       "  </thead>\n",
       "  <tbody>\n",
       "    <tr>\n",
       "      <th>Ex1</th>\n",
       "      <td>Ex1</td>\n",
       "      <td>NaN</td>\n",
       "      <td>NaN</td>\n",
       "      <td>5.213961e-01</td>\n",
       "      <td>12.0</td>\n",
       "      <td>NaN</td>\n",
       "      <td>1.0</td>\n",
       "    </tr>\n",
       "    <tr>\n",
       "      <th>Ex2</th>\n",
       "      <td>Ex2</td>\n",
       "      <td>2.262630</td>\n",
       "      <td>1.817195</td>\n",
       "      <td>1.025746e-08</td>\n",
       "      <td>12.0</td>\n",
       "      <td>0.000000</td>\n",
       "      <td>1.0</td>\n",
       "    </tr>\n",
       "    <tr>\n",
       "      <th>DMgl</th>\n",
       "      <td>Decision Maker global weights</td>\n",
       "      <td>NaN</td>\n",
       "      <td>NaN</td>\n",
       "      <td>0.000000e+00</td>\n",
       "      <td>NaN</td>\n",
       "      <td>NaN</td>\n",
       "      <td>NaN</td>\n",
       "    </tr>\n",
       "    <tr>\n",
       "      <th>DMeq</th>\n",
       "      <td>Decision Maker equal weights</td>\n",
       "      <td>0.149541</td>\n",
       "      <td>0.173664</td>\n",
       "      <td>2.857980e-01</td>\n",
       "      <td>NaN</td>\n",
       "      <td>0.049633</td>\n",
       "      <td>NaN</td>\n",
       "    </tr>\n",
       "  </tbody>\n",
       "</table>\n",
       "</div>"
      ],
      "text/plain": [
       "                               Name  Info. score total  Info. score real.  \\\n",
       "Ex1                             Ex1                NaN                NaN   \n",
       "Ex2                             Ex2           2.262630           1.817195   \n",
       "DMgl  Decision Maker global weights                NaN                NaN   \n",
       "DMeq   Decision Maker equal weights           0.149541           0.173664   \n",
       "\n",
       "      Calibration score  Answered seed items    Weight  User weight  \n",
       "Ex1        5.213961e-01                 12.0       NaN          1.0  \n",
       "Ex2        1.025746e-08                 12.0  0.000000          1.0  \n",
       "DMgl       0.000000e+00                  NaN       NaN          NaN  \n",
       "DMeq       2.857980e-01                  NaN  0.049633          NaN  "
      ]
     },
     "execution_count": 18,
     "metadata": {},
     "output_type": "execute_result"
    }
   ],
   "source": [
    "pd.DataFrame.from_dict(project.experts.as_dict())"
   ]
  },
  {
   "cell_type": "markdown",
   "id": "d5a26cf5-2fbb-4f33-ab31-69565e2392f9",
   "metadata": {},
   "source": [
    "'built DM based on experts 2&3 since the first one is kicked out because of a too low calibration score'"
   ]
  },
  {
   "cell_type": "markdown",
   "id": "73fce648",
   "metadata": {},
   "source": [
    "Finally, the results the resulting PDF of the experts, including the DM, can be plotted using the CDF of each of them."
   ]
  },
  {
   "cell_type": "code",
   "execution_count": 19,
   "id": "a78e6c6d",
   "metadata": {},
   "outputs": [],
   "source": [
    "#select the question for which we want to plot the different CDFs\n",
    "item = 'QUESTION4'\n",
    "itemnr = project.items.ids.index(item)\n",
    "\n",
    "# Get experts assessments for the item\n",
    "itemassessment = project.assessments.get_array(experts='actual')[:, :, itemnr]\n",
    "# Get bounds for the item\n",
    "bounds = project.assessments.get_bounds(overshoot=0.1)\n",
    "lower, upper = bounds[0][itemnr], bounds[1][itemnr]\n",
    "\n",
    "# Plot experts' cdfs\n",
    "fig, ax = plt.subplots(figsize=(8, 5))\n",
    "\n",
    "for i, assessment in enumerate(itemassessment):\n",
    "    ax.plot(np.r_[lower, assessment, upper], np.r_[0.0, project.assessments.quantiles, 1.0],\n",
    "            label='{} (w={:.3f})'.format(project.experts.ids[i], project.experts.comb_score[i] / sum(project.experts.comb_score)))\n",
    "    \n",
    "# Plot DM's cdf\n",
    "ax.plot(*project.assessments.full_cdf['DMgl'][itemnr].T, label='DMgl', marker='.', ms=4, color='0.4', ls='--', lw=2)\n",
    "ax.plot(*project.assessments.full_cdf['DMeq'][itemnr].T, label='DMeq', marker='.', ms=4, color='0.8', ls='--', lw=2)\n",
    "\n",
    "ax.legend()\n",
    "\n",
    "ax.set_title(project.items.questions[itemnr])\n",
    "ax.set_xlabel('Value')\n",
    "ax.set_ylabel('CDF');"
   ]
  },
  {
   "cell_type": "markdown",
   "id": "c1979c18-b6f9-4ae8-8f0c-e0b0298a76e0",
   "metadata": {},
   "source": []
  },
  {
   "cell_type": "markdown",
   "id": "c8d86aff",
   "metadata": {},
   "source": [
    "### 7. Robustness"
   ]
  },
  {
   "cell_type": "markdown",
   "id": "91f5e671",
   "metadata": {},
   "source": [
    "A way of checking the robustness of the project is by removing one or multiple items or experts from the project in turn, and checking the resulting information and calibration scores. If these values will change a lot, it shows that the number of items or experts might be a bit too low."
   ]
  },
  {
   "cell_type": "code",
   "execution_count": 20,
   "id": "b2f46e78",
   "metadata": {},
   "outputs": [
    {
     "name": "stderr",
     "output_type": "stream",
     "text": [
      "C:\\Users\\Arla van der Ende\\anaconda3\\envs\\expert\\Lib\\site-packages\\anduryl\\core\\experts.py:406: RuntimeWarning: invalid value encountered in log\n",
      "  p * np.log(p / (bounds[1:] - bounds[:-1]))\n",
      "C:\\Users\\Arla van der Ende\\anaconda3\\envs\\expert\\Lib\\site-packages\\anduryl\\core\\experts.py:419: RuntimeWarning: invalid value encountered in divide\n",
      "  self.info_real[expidxs] = self.info_per_var[np.ix_(expidxs, ridx)].sum(axis=1) / (\n",
      "C:\\Users\\Arla van der Ende\\anaconda3\\envs\\expert\\Lib\\site-packages\\anduryl\\core\\experts.py:422: RuntimeWarning: invalid value encountered in divide\n",
      "  self.info_total[expidxs] = self.info_per_var[np.ix_(expidxs, tidx)].sum(axis=1) / (\n",
      "C:\\Users\\Arla van der Ende\\anaconda3\\envs\\expert\\Lib\\site-packages\\anduryl\\core\\experts.py:452: RuntimeWarning: invalid value encountered in divide\n",
      "  s = count / count.sum()\n"
     ]
    }
   ],
   "source": [
    "# Exclude up to four items\n",
    "project.calculate_item_robustness(\n",
    "    weight_type='global',\n",
    "    overshoot=0.1,\n",
    "    max_exclude=4,\n",
    "    min_exclude=0,\n",
    "    calpower=1.0,\n",
    "    alpha=0.0\n",
    ")"
   ]
  },
  {
   "cell_type": "markdown",
   "id": "57c06d7a",
   "metadata": {},
   "source": [
    "In the next table, you can see the score changes when different questions are extracted of the calculations. As this is an artifitial example, the Calibration Score has a extrange behaviour, where there is no change of the score or only one single change when one or multiple questions are removed. You are now encouraged to take some of the examples on the github repository that you will find at the end of this notebook and try some of the different examples you can find there."
   ]
  },
  {
   "cell_type": "code",
   "execution_count": 21,
   "id": "a6af90e9",
   "metadata": {},
   "outputs": [
    {
     "data": {
      "text/html": [
       "<div>\n",
       "<style scoped>\n",
       "    .dataframe tbody tr th:only-of-type {\n",
       "        vertical-align: middle;\n",
       "    }\n",
       "\n",
       "    .dataframe tbody tr th {\n",
       "        vertical-align: top;\n",
       "    }\n",
       "\n",
       "    .dataframe thead th {\n",
       "        text-align: right;\n",
       "    }\n",
       "</style>\n",
       "<table border=\"1\" class=\"dataframe\">\n",
       "  <thead>\n",
       "    <tr style=\"text-align: right;\">\n",
       "      <th></th>\n",
       "      <th>Info score total</th>\n",
       "      <th>Info score realizations</th>\n",
       "      <th>Calibration score</th>\n",
       "    </tr>\n",
       "  </thead>\n",
       "  <tbody>\n",
       "    <tr>\n",
       "      <th>None</th>\n",
       "      <td>NaN</td>\n",
       "      <td>NaN</td>\n",
       "      <td>0.000000</td>\n",
       "    </tr>\n",
       "    <tr>\n",
       "      <th>(QUESTION1,)</th>\n",
       "      <td>NaN</td>\n",
       "      <td>NaN</td>\n",
       "      <td>0.000000</td>\n",
       "    </tr>\n",
       "    <tr>\n",
       "      <th>(QUESTION2,)</th>\n",
       "      <td>NaN</td>\n",
       "      <td>NaN</td>\n",
       "      <td>0.000000</td>\n",
       "    </tr>\n",
       "    <tr>\n",
       "      <th>(QUESTION3,)</th>\n",
       "      <td>NaN</td>\n",
       "      <td>NaN</td>\n",
       "      <td>0.000000</td>\n",
       "    </tr>\n",
       "    <tr>\n",
       "      <th>(QUESTION4,)</th>\n",
       "      <td>NaN</td>\n",
       "      <td>NaN</td>\n",
       "      <td>0.000000</td>\n",
       "    </tr>\n",
       "    <tr>\n",
       "      <th>...</th>\n",
       "      <td>...</td>\n",
       "      <td>...</td>\n",
       "      <td>...</td>\n",
       "    </tr>\n",
       "    <tr>\n",
       "      <th>(QUESTION8, QUESTION9, QUESTION10, QUESTION11)</th>\n",
       "      <td>0.055507</td>\n",
       "      <td>0.066913</td>\n",
       "      <td>0.640102</td>\n",
       "    </tr>\n",
       "    <tr>\n",
       "      <th>(QUESTION8, QUESTION9, QUESTION10, QUESTION12)</th>\n",
       "      <td>0.054455</td>\n",
       "      <td>0.064340</td>\n",
       "      <td>0.640102</td>\n",
       "    </tr>\n",
       "    <tr>\n",
       "      <th>(QUESTION8, QUESTION9, QUESTION11, QUESTION12)</th>\n",
       "      <td>0.057116</td>\n",
       "      <td>0.070867</td>\n",
       "      <td>0.640102</td>\n",
       "    </tr>\n",
       "    <tr>\n",
       "      <th>(QUESTION8, QUESTION10, QUESTION11, QUESTION12)</th>\n",
       "      <td>0.058385</td>\n",
       "      <td>0.073988</td>\n",
       "      <td>0.640102</td>\n",
       "    </tr>\n",
       "    <tr>\n",
       "      <th>(QUESTION9, QUESTION10, QUESTION11, QUESTION12)</th>\n",
       "      <td>0.056239</td>\n",
       "      <td>0.070391</td>\n",
       "      <td>0.000000</td>\n",
       "    </tr>\n",
       "  </tbody>\n",
       "</table>\n",
       "<p>794 rows × 3 columns</p>\n",
       "</div>"
      ],
      "text/plain": [
       "                                                 Info score total  \\\n",
       "None                                                          NaN   \n",
       "(QUESTION1,)                                                  NaN   \n",
       "(QUESTION2,)                                                  NaN   \n",
       "(QUESTION3,)                                                  NaN   \n",
       "(QUESTION4,)                                                  NaN   \n",
       "...                                                           ...   \n",
       "(QUESTION8, QUESTION9, QUESTION10, QUESTION11)           0.055507   \n",
       "(QUESTION8, QUESTION9, QUESTION10, QUESTION12)           0.054455   \n",
       "(QUESTION8, QUESTION9, QUESTION11, QUESTION12)           0.057116   \n",
       "(QUESTION8, QUESTION10, QUESTION11, QUESTION12)          0.058385   \n",
       "(QUESTION9, QUESTION10, QUESTION11, QUESTION12)          0.056239   \n",
       "\n",
       "                                                 Info score realizations  \\\n",
       "None                                                                 NaN   \n",
       "(QUESTION1,)                                                         NaN   \n",
       "(QUESTION2,)                                                         NaN   \n",
       "(QUESTION3,)                                                         NaN   \n",
       "(QUESTION4,)                                                         NaN   \n",
       "...                                                                  ...   \n",
       "(QUESTION8, QUESTION9, QUESTION10, QUESTION11)                  0.066913   \n",
       "(QUESTION8, QUESTION9, QUESTION10, QUESTION12)                  0.064340   \n",
       "(QUESTION8, QUESTION9, QUESTION11, QUESTION12)                  0.070867   \n",
       "(QUESTION8, QUESTION10, QUESTION11, QUESTION12)                 0.073988   \n",
       "(QUESTION9, QUESTION10, QUESTION11, QUESTION12)                 0.070391   \n",
       "\n",
       "                                                 Calibration score  \n",
       "None                                                      0.000000  \n",
       "(QUESTION1,)                                              0.000000  \n",
       "(QUESTION2,)                                              0.000000  \n",
       "(QUESTION3,)                                              0.000000  \n",
       "(QUESTION4,)                                              0.000000  \n",
       "...                                                            ...  \n",
       "(QUESTION8, QUESTION9, QUESTION10, QUESTION11)            0.640102  \n",
       "(QUESTION8, QUESTION9, QUESTION10, QUESTION12)            0.640102  \n",
       "(QUESTION8, QUESTION9, QUESTION11, QUESTION12)            0.640102  \n",
       "(QUESTION8, QUESTION10, QUESTION11, QUESTION12)           0.640102  \n",
       "(QUESTION9, QUESTION10, QUESTION11, QUESTION12)           0.000000  \n",
       "\n",
       "[794 rows x 3 columns]"
      ]
     },
     "execution_count": 21,
     "metadata": {},
     "output_type": "execute_result"
    }
   ],
   "source": [
    "robres = project.main_results.item_robustness\n",
    "index = [val[:] if val else 'None' for val in list(robres.keys())]\n",
    "pd.DataFrame(data=robres.values(), index=index, columns=['Info score total' ,'Info score realizations', 'Calibration score'])"
   ]
  },
  {
   "cell_type": "markdown",
   "id": "51dbf2aa-79a5-4323-8630-6c4f5ac73ecb",
   "metadata": {},
   "source": [
    "Checking influence of the questions"
   ]
  },
  {
   "cell_type": "markdown",
   "id": "25112991",
   "metadata": {},
   "source": [
    "When more questions are extracted, the variation of the Information Score grows. This means that the calculations results are more sensitive when more questions are extracted."
   ]
  },
  {
   "cell_type": "code",
   "execution_count": 13,
   "id": "086ecf8a",
   "metadata": {},
   "outputs": [],
   "source": [
    "# Collect the results per number of excluded items\n",
    "robres = project.main_results.item_robustness\n",
    "values = {}\n",
    "for key, value in robres.items():\n",
    "    # Add dictionary item if it does not exist yet\n",
    "    if len(key) not in values.keys():\n",
    "        values[len(key)] = []\n",
    "    # Append total information score (the 1st value)\n",
    "    values[len(key)].append(value[0])\n",
    "        \n",
    "# Show the variation in calibration and information scores.\n",
    "fig, ax = plt.subplots()\n",
    "ax.boxplot(values.values(), positions=list(values.keys()));\n",
    "ax.set_xlabel('Number of excluded items')\n",
    "ax.set_ylabel('Total Information score')\n",
    "ax.set_title('Variation for excluding up to 4 items');\n",
    "ax.grid(axis='x')\n",
    "fig.tight_layout()"
   ]
  },
  {
   "cell_type": "code",
   "execution_count": 14,
   "id": "0cd9b5a3",
   "metadata": {},
   "outputs": [],
   "source": [
    "# Collect the results per number of excluded items\n",
    "robres = project.main_results.item_robustness\n",
    "values = {}\n",
    "for key, value in robres.items():\n",
    "    # Add dictionary item if it does not exist yet\n",
    "    if len(key) not in values.keys():\n",
    "        values[len(key)] = []\n",
    "    # Append information score with realizations\n",
    "    values[len(key)].append(value[1])\n",
    "        \n",
    "# Show the variation in calibration and information scores.\n",
    "fig, ax = plt.subplots()\n",
    "ax.boxplot(values.values(), positions=list(values.keys()));\n",
    "ax.set_xlabel('Number of excluded items')\n",
    "ax.set_ylabel('Information Score with realizations')\n",
    "ax.set_title('Variation for excluding up to 4 items');\n",
    "ax.grid(axis='x')\n",
    "fig.tight_layout()"
   ]
  },
  {
   "cell_type": "code",
   "execution_count": 15,
   "id": "7ac6161c",
   "metadata": {},
   "outputs": [
    {
     "data": {
      "image/png": "[encoded data removed]",
      "text/plain": [
       "<Figure size 800x500 with 1 Axes>"
      ]
     },
     "metadata": {},
     "output_type": "display_data"
    },
    {
     "data": {
      "image/png": "[encoded data removed]",
      "text/plain": [
       "<Figure size 640x480 with 1 Axes>"
      ]
     },
     "metadata": {},
     "output_type": "display_data"
    },
    {
     "data": {
      "image/png": "[encoded data removed]",
      "text/plain": [
       "<Figure size 640x480 with 1 Axes>"
      ]
     },
     "metadata": {},
     "output_type": "display_data"
    },
    {
     "data": {
      "image/png": "[encoded data removed]",
      "text/plain": [
       "<Figure size 640x480 with 1 Axes>"
      ]
     },
     "metadata": {},
     "output_type": "display_data"
    }
   ],
   "source": [
    "# Collect the results per number of excluded items\n",
    "robres = project.main_results.item_robustness\n",
    "values = {}\n",
    "for key, value in robres.items():\n",
    "    # Add dictionary item if it does not exist yet\n",
    "    if len(key) not in values.keys():\n",
    "        values[len(key)] = []\n",
    "    # Append calibration score (the 3th value, index 2 since Python is zero-based)\n",
    "    values[len(key)].append(value[2])\n",
    "        \n",
    "# Show the variation in calibration and information scores.\n",
    "fig, ax = plt.subplots()\n",
    "ax.boxplot(values.values(), positions=list(values.keys()));\n",
    "ax.set_xlabel('Number of excluded items')\n",
    "ax.set_ylabel('Calibration score')\n",
    "ax.set_title('Variation for excluding up to 4 items');\n",
    "ax.grid(axis='x')\n",
    "fig.tight_layout()\n",
    "plt.show()"
   ]
  },
  {
   "cell_type": "code",
   "execution_count": null,
   "id": "6ee9adc1-510e-45eb-9148-2a4c9e8b7804",
   "metadata": {},
   "outputs": [],
   "source": []
  }
 ],
 "metadata": {
  "kernelspec": {
   "display_name": "Python 3 (ipykernel)",
   "language": "python",
   "name": "python3"
  },
  "language_info": {
   "codemirror_mode": {
    "name": "ipython",
    "version": 3
   },
   "file_extension": ".py",
   "mimetype": "text/x-python",
   "name": "python",
   "nbconvert_exporter": "python",
   "pygments_lexer": "ipython3",
   "version": "3.11.11"
  }
 },
 "nbformat": 4,
 "nbformat_minor": 5
}
